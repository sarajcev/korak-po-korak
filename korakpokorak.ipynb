{
 "cells": [
  {
   "cell_type": "markdown",
   "metadata": {},
   "source": [
    "## Metoda \"korak po korak\" za analizu dinamičke stabilnosti"
   ]
  },
  {
   "cell_type": "markdown",
   "metadata": {},
   "source": [
    "M. i K. Ožegović, ELEKTRIČNE MREŽE III, Sveučilište u Splitu, FESB, Split, 1982.\n",
    "\n",
    "Rješenje za Primjer 1.10  (str. 101).\n",
    "\n",
    "Tablica 1.1 (str. 102) je za Pm=0.8 i uspješan APU."
   ]
  },
  {
   "cell_type": "markdown",
   "metadata": {},
   "source": [
    "![Primjer 1.10](slike/primjer_1_10.png)"
   ]
  },
  {
   "cell_type": "code",
   "execution_count": 1,
   "metadata": {},
   "outputs": [],
   "source": [
    "import numpy as np\n",
    "import matplotlib.pyplot as plt"
   ]
  },
  {
   "cell_type": "code",
   "execution_count": 2,
   "metadata": {},
   "outputs": [],
   "source": [
    "# Figure aesthetics.\n",
    "import seaborn as sns\n",
    "sns.set_theme(context='paper', style='white', font_scale=1.1)\n",
    "sns.set_style('ticks', {'xtick.direction':'in', 'ytick.direction':'in'})\n"
   ]
  },
  {
   "cell_type": "code",
   "execution_count": 3,
   "metadata": {},
   "outputs": [],
   "source": [
    "def korak_po_korak(H, Po, Pkv, Piv, Pnp, \n",
    "                   t_isk, APU_postoji, APU_uspjesan, tAPU, \n",
    "                   tmax, dt, EPS=1e-3):\n",
    "    \"\"\"\n",
    "    Metoda \"korak po korak\" za proracun dinamicke stabilnosti.\n",
    "\n",
    "    Numericki proracun dinamicke stabilnosti jednostavnog EES-a\n",
    "    pomocu metode korak po korak. Razmatra se nastup bilo koje\n",
    "    vrste kratkog spoja (K3, K2, K1, K2Z) na jednom od dva\n",
    "    paralelna voda kojim je elektrana (generator i blok trans-\n",
    "    formator) prikljucena na mrezu. Moguce je pritom dodatno\n",
    "    uzeti u obzir djelovanje APU-a (tropolni) koji moze biti\n",
    "    uspjesan ili neuspjesan.\n",
    "\n",
    "    Arguments\n",
    "    ---------\n",
    "    H: float\n",
    "        Konstanta inercije rotirajucih masa (MWs/MVA).\n",
    "        Turbogeneratori: 5 - 8\n",
    "        Hidrogeneratori: 2.5 - 4\n",
    "        Sinhr. kompenz.: 1.25 - 2\n",
    "    Po: float\n",
    "        Mehanicka snaga u jed. vr.\n",
    "    Pkv: float \n",
    "        Tjemena vrijednost snage prijenosa za vrijeme trajanja \n",
    "        kratkog spoja u jed. vr. \n",
    "    Piv: float\n",
    "        Tjemena vrijednost snage prijenosa jednog voda u pogonu u jed. vr.\n",
    "    Pnp: float\n",
    "        Tjemena vrijednost snage prijenosa normalnog pogona (kada su oba \n",
    "        voda u pogonu) u jed. vr.\n",
    "    t_isk: float\n",
    "        Vrijeme odgode iskljucenja kvara (s).\n",
    "    APU_postoji: bool\n",
    "        Indikator postojanja (True) ili nepostojanje (False) \n",
    "        automatskog ponovnog uklopa na vodu. Rijec je o tropolnom APU\n",
    "        kod kojeg se jedan vod (na kojem je bio kvar) stavlja izvan pogona.\n",
    "    APU_uspjesan: bool\n",
    "        Indikator uspjesnog (True) ili neuspjesnog (False) djelovanja\n",
    "        APU-a, tj. indikator nestanka kvara nakon isteka beznaponske pauze. \n",
    "        Ako je APU bio neuspjesan, dolazi do ponovnog ukljucenja voda na \n",
    "        kvar i konacnog potom iskljucenja s vremenskom pauzom za koju se \n",
    "        pretpostavlja da ima istu vrijednost kao i originalno vrijeme \n",
    "        odgode iskljucenja kvara.\n",
    "    tAPU: float\n",
    "        Vrijeme trajanja beznaponske pauze APU-a (s).\n",
    "    tmax: float\n",
    "        Ukupno vrijeme promatranja dinamicke stabilnosti (s).\n",
    "    dt: float\n",
    "        Vremenski korak proracuna (s). Mora biti visekratnik\n",
    "        vremena iskljucenja kvara (i vremena trajanja APU-a).\n",
    "    EPS: float, default=1e-3\n",
    "        Tolerancija za odredjivanje vremena iskljucenja kvara i\n",
    "        vremena trajanja APU-a.\n",
    "    \n",
    "    Returns\n",
    "    -------\n",
    "    t: np.array\n",
    "        Vrijeme (s).\n",
    "    d: np.array\n",
    "        Kut opterecenja (stupnjevi).\n",
    "    \n",
    "    Napomena\n",
    "    --------\n",
    "    Jedinicne vrijednosti snaga Po, Pkv, Piv, Pnp zadaju se u odnosu na\n",
    "    nazivnu snagu generatora (Sn = 1).\n",
    "\n",
    "    Literatura\n",
    "    ----------\n",
    "    M. i K. Ožegović, ELEKTRIČNE MREŽE III, Sveučilište u Splitu, \n",
    "    FESB, Split, 1982.\n",
    "    \"\"\"\n",
    "    if t_isk <= 0:\n",
    "        raise ValueError('Vrijeme iskljucenja kvara ne moze biti nula.')\n",
    "    if APU_postoji and tAPU <= 0:\n",
    "        raise ValueError('Beznaponska pauza APU ne moze biti nula.')\n",
    "    if APU_postoji and tmax < t_isk + tAPU:\n",
    "        raise ValueError('Vrijeme promatranja pojave je prekratko postavljeno.')\n",
    "    if APU_postoji is False and tmax < t_isk:\n",
    "        raise ValueError('Vrijeme promatranja pojave je prekratko postavljeno.')\n",
    "\n",
    "    # Konstante proracuna.\n",
    "    Sn = 1.0  # p.u.\n",
    "    k = 9000./(H*Sn)\n",
    "    rad = np.pi/180.\n",
    "\n",
    "    # Inicijalni kut operecenja.\n",
    "    do = np.arcsin(Po/Pnp)*180./np.pi\n",
    "\n",
    "    # Alociranje memorije.\n",
    "    N = int(tmax/dt) + 1\n",
    "    t = np.arange(N)*dt    # vrijeme\n",
    "    dd = np.empty_like(t)  # delta delta\n",
    "    d = np.empty_like(t)   # delta\n",
    "    \n",
    "    # Kvar nastupa u pocetnom trenutku (t = 0 s).\n",
    "    # Pocetni trenutak.\n",
    "    Pe = Pkv * np.sin(do*rad)\n",
    "    alpha = k * (Po - Pe)\n",
    "    omega = alpha * dt/2.\n",
    "    dd[0] = omega * dt/2. + alpha * (dt/2.)**2\n",
    "    d[0] = do + dd[0]\n",
    "\n",
    "    if APU_postoji:\n",
    "        # Postoji APU na vodu.\n",
    "        for i in range(1, N):\n",
    "            # Za vrijeme trajanja kratkog spoja.\n",
    "            if t[i] < t_isk:\n",
    "                Pe = Pkv * np.sin(d[i-1]*rad)\n",
    "                alpha = k * (Po - Pe)\n",
    "                dd[i] = dd[i-1] + alpha * dt**2\n",
    "                d[i] = d[i-1] + dd[i]\n",
    "            elif abs(t[i] - t_isk) <= EPS:\n",
    "                # Trenutak iskljucenja kratkog spoja.\n",
    "                Pe1 = Pkv * np.sin(d[i-1]*rad)\n",
    "                Pe2 = Piv * np.sin(d[i-1]*rad)\n",
    "                dp1 = Po - Pe1\n",
    "                dp2 = Po - Pe2\n",
    "                dp = (dp1 + dp2)/2.\n",
    "                alpha = k * dp\n",
    "                dd[i] = dd[i-1] + alpha * dt**2\n",
    "                d[i] = d[i-1] + dd[i]\n",
    "            elif t_isk < t[i] < t_isk + tAPU:\n",
    "                # Nakon iskljucenja voda u kvaru (tece beznaponska\n",
    "                # pauza ako postoji APU).\n",
    "                Pe = Piv * np.sin(d[i-1]*rad)\n",
    "                alpha = k * (Po - Pe)\n",
    "                dd[i] = dd[i-1] + alpha * dt**2\n",
    "                d[i] = d[i-1] + dd[i]\n",
    "            elif abs(t[i] - (t_isk + tAPU)) <= EPS:\n",
    "                # Trenutak isteka beznaponske pauze APU-a.\n",
    "                if APU_uspjesan:\n",
    "                    # APU je uspjesan.\n",
    "                    Pe1 = Piv * np.sin(d[i-1]*rad)\n",
    "                    Pe2 = Pnp * np.sin(d[i-1]*rad)\n",
    "                    dp1 = Po - Pe1\n",
    "                    dp2 = Po - Pe2\n",
    "                    dp = (dp1 + dp2)/2.\n",
    "                    alpha = k * dp\n",
    "                    dd[i] = dd[i-1] + alpha * dt**2\n",
    "                    d[i] = d[i-1] + dd[i]\n",
    "                else:\n",
    "                    # APU je neuspjesan.\n",
    "                    Pe1 = Piv * np.sin(d[i-1]*rad)\n",
    "                    Pe2 = Pkv * np.sin(d[i-1]*rad)\n",
    "                    dp1 = Po - Pe1\n",
    "                    dp2 = Po - Pe2\n",
    "                    dp = (dp1 + dp2)/2.\n",
    "                    alpha = k * dp\n",
    "                    dd[i] = dd[i-1] + alpha * dt**2\n",
    "                    d[i] = d[i-1] + dd[i]\n",
    "            elif t[i] > t_isk + tAPU:\n",
    "                # Nakon vremena isteka beznaponske pauze.\n",
    "                if APU_uspjesan:\n",
    "                    # APU je uspjesan.\n",
    "                    # Sustav se vraca u normalno pogonsko stanje.\n",
    "                    Pe = Pnp * np.sin(d[i-1]*rad)\n",
    "                    alpha = k * (Po - Pe)\n",
    "                    dd[i] = dd[i-1] + alpha * dt**2\n",
    "                    d[i] = d[i-1] + dd[i]\n",
    "                else:\n",
    "                    # APU je neuspjesan.\n",
    "                    if t_isk + tAPU < t[i] < t_isk + tAPU + t_isk:\n",
    "                        # Ponovno ukljucenje na kvar do konacnog iskljucenja.\n",
    "                        # Pretpostavlja se da je odgoda iskljucenja kvara \n",
    "                        # nakon neuspjesnog APU-a ista kao i kod prvog \n",
    "                        # djelovanja relejne zastite.\n",
    "                        Pe = Pkv * np.sin(d[i-1]*rad)\n",
    "                        alpha = k * (Po - Pe)\n",
    "                        dd[i] = dd[i-1] + alpha * dt**2\n",
    "                        d[i] = d[i-1] + dd[i]\n",
    "                    else:\n",
    "                        # Konacno iskljucenje kvara nakon neuspjesnog APU-a.\n",
    "                        # Sustav nastavlja pogon samo s jednim vodom.\n",
    "                        Pe = Piv * np.sin(d[i-1]*rad)\n",
    "                        alpha = k * (Po - Pe)\n",
    "                        dd[i] = dd[i-1] + alpha * dt**2\n",
    "                        d[i] = d[i-1] + dd[i]\n",
    "    else:\n",
    "        # APU ne postoji.\n",
    "        for i in range(1, N):\n",
    "            if t[i] < t_isk:\n",
    "                # Za vrijeme trajanja kratkog spoja.\n",
    "                Pe = Pkv * np.sin(d[i-1]*rad)\n",
    "                alpha = k * (Po - Pe)\n",
    "                dd[i] = dd[i-1] + alpha * dt**2\n",
    "                d[i] = d[i-1] + dd[i]\n",
    "            elif abs(t[i] - t_isk) <= EPS:\n",
    "                # Trenutak iskljucenja kratkog spoja.\n",
    "                Pe1 = Pkv * np.sin(d[i-1]*rad)\n",
    "                Pe2 = Piv * np.sin(d[i-1]*rad)\n",
    "                dp1 = Po - Pe1\n",
    "                dp2 = Po - Pe2\n",
    "                dp = (dp1 + dp2)/2.\n",
    "                alpha = k * dp\n",
    "                dd[i] = dd[i-1] + alpha * dt**2\n",
    "                d[i] = d[i-1] + dd[i]\n",
    "            else:\n",
    "                # Nakon iskljucenja voda u kvaru.\n",
    "                # Sustav nastavlja pogon samo s jednim vodom.\n",
    "                Pe = Piv * np.sin(d[i-1]*rad)\n",
    "                alpha = k * (Po - Pe)\n",
    "                dd[i] = dd[i-1] + alpha * dt**2\n",
    "                d[i] = d[i-1] + dd[i]\n",
    "    \n",
    "    return (t, d)"
   ]
  },
  {
   "cell_type": "markdown",
   "metadata": {},
   "source": [
    "### Primjer 1.10"
   ]
  },
  {
   "cell_type": "code",
   "execution_count": 4,
   "metadata": {},
   "outputs": [],
   "source": [
    "# Ozegovic, Elektricne mreze III, Primjer 1.10, str. 101.\n",
    "# Ulazni podaci:\n",
    "H = 3.\n",
    "\n",
    "# Tjemene vrijednosti snaga:\n",
    "Po = 0.8     # Mehanicka snaga jed.vr.\n",
    "Pk3 = 0.302  # Snaga tropolnog kratkog spoja jed.vr.\n",
    "Piv = 1.129  # Snaga nakon iskljucenja kvara jed.vr.\n",
    "Pnp = 1.368  # Snaga normalnog pogona jed.vr.\n",
    "\n",
    "t_isk = 0.15  # Vrijeme iskljucenja kvara.\n",
    "APU_postoji = True  # APU postoji (True) ili ne postoji (False).\n",
    "APU_uspjesan = True # APU uspjesan (True) ili neuspjesan (False).\n",
    "tAPU = 0.4   # Vrijeme trajanja beznaponske pauze APU.\n",
    "tmax = 0.7  # Vrijeme promatranja dinamicke stabilnosti.\n",
    "dt = 0.05    # Vremenski korak proracuna."
   ]
  },
  {
   "cell_type": "markdown",
   "metadata": {},
   "source": [
    "#### Dalekovod ima APU koji je uspješan."
   ]
  },
  {
   "cell_type": "markdown",
   "metadata": {},
   "source": [
    "![APU uspjesno](slike/APU_uspjesno.png)"
   ]
  },
  {
   "cell_type": "code",
   "execution_count": 5,
   "metadata": {},
   "outputs": [],
   "source": [
    "# Osnovna varijanta (APU uspjesno).\n",
    "t, d = korak_po_korak(H, Po, Pk3, Piv, Pnp, t_isk, \n",
    "                      APU_postoji, APU_uspjesan, tAPU, tmax, dt)"
   ]
  },
  {
   "cell_type": "code",
   "execution_count": 6,
   "metadata": {},
   "outputs": [
    {
     "name": "stdout",
     "output_type": "stream",
     "text": [
      "[38.13 45.07 56.4  69.27 80.21 88.82 94.95 98.66 99.99 98.98 95.6  88.91\n",
      " 77.96 62.98]\n"
     ]
    }
   ],
   "source": [
    "# Usporediti s rezultatima u Tablici 1.1 (str. 102).\n",
    "print(d.round(2))"
   ]
  },
  {
   "cell_type": "markdown",
   "metadata": {},
   "source": [
    "#### Dalekovod ima APU koji je neuspješan."
   ]
  },
  {
   "cell_type": "markdown",
   "metadata": {},
   "source": [
    "![APU neuspjesno](slike/APU_neuspjesno.png)"
   ]
  },
  {
   "cell_type": "code",
   "execution_count": 7,
   "metadata": {},
   "outputs": [],
   "source": [
    "APU_uspjesan = False  # Varijanta: APU je neuspjesno.\n",
    "t, d_neuspjeh = korak_po_korak(H, Po, Pk3, Piv, Pnp, t_isk, \n",
    "                               APU_postoji, APU_uspjesan, tAPU, tmax, dt)"
   ]
  },
  {
   "cell_type": "markdown",
   "metadata": {},
   "source": [
    "#### Dalekovod nema APU."
   ]
  },
  {
   "cell_type": "markdown",
   "metadata": {},
   "source": [
    "![APU ne postoji](slike/APU_ne_postoji.png)"
   ]
  },
  {
   "cell_type": "code",
   "execution_count": 8,
   "metadata": {},
   "outputs": [],
   "source": [
    "APU_postoji = False  # Varijanta: Dalekovod nema APU.\n",
    "t, d_noAPU = korak_po_korak(H, Po, Pk3, Piv, Pnp, t_isk, \n",
    "                            APU_postoji, APU_uspjesan, tAPU, tmax, dt)"
   ]
  },
  {
   "cell_type": "code",
   "execution_count": 9,
   "metadata": {},
   "outputs": [
    {
     "data": {
      "image/png": "[encoded data removed]",
      "text/plain": [
       "<Figure size 450x600 with 1 Axes>"
      ]
     },
     "metadata": {},
     "output_type": "display_data"
    }
   ],
   "source": [
    "# Ozegovic, Elektricne mreze III, Primjer 1.10, Slika 57, str. 107.\n",
    "fig, ax = plt.subplots(figsize=(4.5,6))\n",
    "ax.set_title(f'Pm = {Po}, K3, isk. kvara = {t_isk} s, APU = {tAPU} s', \n",
    "             fontdict={'size':10})\n",
    "# Prikazi krivulje promjene kuta opterecenja.\n",
    "ax.plot(t, d, lw=2, label='APU uspješno')\n",
    "ax.plot(t, d_neuspjeh, lw=2, label='APU neuspješno')\n",
    "ax.plot(t, d_noAPU, ls='--', lw=2, label='bez APU')\n",
    "# Oznaci vremenske trenutke od interesa.\n",
    "low, high = 30, 100\n",
    "ax.vlines(t_isk, low, high, lw=1.5, colors='dimgrey', linestyles='dotted')\n",
    "ax.vlines(t_isk+tAPU, low, high, lw=1.5, colors='dimgrey', linestyles='dotted')\n",
    "do = np.arcsin(Po/Pnp)*180/np.pi\n",
    "ax.annotate('KS', xy=(t_isk-0.1, do), va='bottom')\n",
    "ax.annotate('', xy=(0, do), xytext=(t_isk, do),\n",
    "            arrowprops={'color':'dimgrey', 'arrowstyle':'<->'})\n",
    "ax.annotate('APU', xy=(tAPU-0.1, do), va='bottom')\n",
    "ax.annotate('', xy=(t_isk, do), xytext=(t_isk+tAPU, do),\n",
    "            arrowprops={'color':'dimgrey', 'arrowstyle':'<->'})\n",
    "# Koordinatne osi i legenda.\n",
    "ax.legend(loc='center')\n",
    "ax.set_xlabel('t (s)')\n",
    "ax.set_ylabel('Kut opterecenja, ' + r'$\\delta \\, ^{\\circ}$')\n",
    "ax.grid(visible=True, which='major', axis='both')\n",
    "fig.tight_layout()\n",
    "plt.show()"
   ]
  },
  {
   "cell_type": "code",
   "execution_count": null,
   "metadata": {},
   "outputs": [],
   "source": []
  }
 ],
 "metadata": {
  "kernelspec": {
   "display_name": "base",
   "language": "python",
   "name": "python3"
  },
  "language_info": {
   "codemirror_mode": {
    "name": "ipython",
    "version": 3
   },
   "file_extension": ".py",
   "mimetype": "text/x-python",
   "name": "python",
   "nbconvert_exporter": "python",
   "pygments_lexer": "ipython3",
   "version": "3.11.9"
  }
 },
 "nbformat": 4,
 "nbformat_minor": 2
}
